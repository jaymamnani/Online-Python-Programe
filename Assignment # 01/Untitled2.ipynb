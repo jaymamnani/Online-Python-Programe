{
 "cells": [
  {
   "cell_type": "code",
   "execution_count": 1,
   "id": "737f4b3d",
   "metadata": {},
   "outputs": [
    {
     "name": "stdout",
     "output_type": "stream",
     "text": [
      "Twinkle, twinkle, little star,\n",
      "\tHow I wonder what you are!\n",
      "\t\tUp above the world so high,\n",
      "\t\tLink a diamond in the sky.\n",
      "Twinkle, twinkle, little star,\n",
      "\tHow I wonder what you are!\n"
     ]
    }
   ],
   "source": [
    "print(\"Twinkle, twinkle, little star,\\n\\tHow I wonder what you are!\\n\\t\\tUp above the world so high,\\n\\t\\tLink a diamond in the sky.\\nTwinkle, twinkle, little star,\\n\\tHow I wonder what you are!\")\n"
   ]
  },
  {
   "cell_type": "code",
   "execution_count": 13,
   "id": "48488e6d",
   "metadata": {},
   "outputs": [
    {
     "name": "stdout",
     "output_type": "stream",
     "text": [
      "Python version that we are using is 3.9.7 (default, Sep 16 2021, 16:59:28) [MSC v.1916 64 bit (AMD64)]\n"
     ]
    }
   ],
   "source": [
    "import sys\n",
    "print(\"Python version that we are using is \" +sys.version)"
   ]
  },
  {
   "cell_type": "code",
   "execution_count": 15,
   "id": "ae91acd0",
   "metadata": {},
   "outputs": [
    {
     "name": "stdout",
     "output_type": "stream",
     "text": [
      "Current date and time is\n",
      "2021-12-31 19:19:25\n"
     ]
    }
   ],
   "source": [
    "import datetime\n",
    "current = datetime.datetime.now()\n",
    "print (\"Current date and time is\")\n",
    "print(current.strftime(\"%Y-%m-%d %H:%M:%S\"))"
   ]
  },
  {
   "cell_type": "code",
   "execution_count": 4,
   "id": "dc2e149c",
   "metadata": {},
   "outputs": [
    {
     "name": "stdout",
     "output_type": "stream",
     "text": [
      "Input the radius : 25\n",
      "The area of the circle is: 1963.4954084936207\n"
     ]
    }
   ],
   "source": [
    "from math import pi\n",
    "r = float(input (\"Input the radius : \"))\n",
    "print (\"The area of the circle is: \" + str(pi * r**2))\n"
   ]
  },
  {
   "cell_type": "code",
   "execution_count": 7,
   "id": "51524789",
   "metadata": {},
   "outputs": [
    {
     "name": "stdout",
     "output_type": "stream",
     "text": [
      "Input the First name : Jay\n",
      "Input the last name : Kumar\n",
      "Your name is Jay Kumar\n",
      "after reverse function it is : ramuK yaJ\n"
     ]
    }
   ],
   "source": [
    "f = input(\"Input the First name : \")\n",
    "l = input(\"Input the last name : \")\n",
    "name = (f +\" \"+l)\n",
    "print(\"Your name is \" +name)\n",
    "rev = name[::-1]\n",
    "print(\"after reverse function it is : \" + rev)\n"
   ]
  },
  {
   "cell_type": "code",
   "execution_count": 2,
   "id": "03fe60db",
   "metadata": {},
   "outputs": [
    {
     "name": "stdout",
     "output_type": "stream",
     "text": [
      "Input first value25\n",
      "Input Second value25\n",
      "The result is 50.0\n"
     ]
    }
   ],
   "source": [
    "x = float(input(\"Input first value\"))\n",
    "y = float(input(\"Input Second value\"))\n",
    "print(\"The result is \" +str(x+y))"
   ]
  }
 ],
 "metadata": {
  "kernelspec": {
   "display_name": "Python 3 (ipykernel)",
   "language": "python",
   "name": "python3"
  },
  "language_info": {
   "codemirror_mode": {
    "name": "ipython",
    "version": 3
   },
   "file_extension": ".py",
   "mimetype": "text/x-python",
   "name": "python",
   "nbconvert_exporter": "python",
   "pygments_lexer": "ipython3",
   "version": "3.9.7"
  }
 },
 "nbformat": 4,
 "nbformat_minor": 5
}
